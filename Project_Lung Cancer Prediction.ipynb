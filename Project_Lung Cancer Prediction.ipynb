{
 "cells": [
  {
   "cell_type": "code",
   "execution_count": 1,
   "id": "fa8d0049",
   "metadata": {},
   "outputs": [],
   "source": [
    "import tensorflow as tf\n",
    "from keras.preprocessing.image import ImageDataGenerator\n"
   ]
  },
  {
   "cell_type": "code",
   "execution_count": 2,
   "id": "78e76876",
   "metadata": {},
   "outputs": [],
   "source": [
    "from tensorflow.keras.models import Sequential\n",
    "from tensorflow.keras.layers import Dense, Conv2D, MaxPooling2D, Flatten"
   ]
  },
  {
   "cell_type": "code",
   "execution_count": 3,
   "id": "1a11053c",
   "metadata": {},
   "outputs": [],
   "source": [
    "import matplotlib.pyplot as plt"
   ]
  },
  {
   "cell_type": "code",
   "execution_count": 4,
   "id": "ba7ce389",
   "metadata": {
    "scrolled": true
   },
   "outputs": [
    {
     "name": "stdout",
     "output_type": "stream",
     "text": [
      "Found 344 images belonging to 2 classes.\n"
     ]
    }
   ],
   "source": [
    "train_datagen = ImageDataGenerator(rescale = 1./255,\n",
    "                                   shear_range = 0.2,\n",
    "                                   zoom_range = 0.2,\n",
    "                                   horizontal_flip = True)\n",
    "training_set = train_datagen.flow_from_directory(directory=r\"C:\\Users\\chava\\dataset\\training_set\",\n",
    "                                                 target_size = (64, 64),\n",
    "                                                 batch_size = 32,\n",
    "                                                 class_mode = 'binary')"
   ]
  },
  {
   "cell_type": "code",
   "execution_count": 5,
   "id": "a49c62ac",
   "metadata": {},
   "outputs": [
    {
     "name": "stdout",
     "output_type": "stream",
     "text": [
      "Found 112 images belonging to 2 classes.\n"
     ]
    }
   ],
   "source": [
    "test_datagen = ImageDataGenerator(rescale = 1./255)\n",
    "test_set = test_datagen.flow_from_directory(r'C:\\Users\\chava\\dataset/test_set',\n",
    "                                            target_size = (64, 64),\n",
    "                                            batch_size = 32,\n",
    "                                            class_mode = 'binary')\n",
    "        "
   ]
  },
  {
   "cell_type": "code",
   "execution_count": 6,
   "id": "0fda97ef",
   "metadata": {},
   "outputs": [],
   "source": [
    "#Initialising the CNN\n",
    "cnn = tf.keras.models.Sequential()"
   ]
  },
  {
   "cell_type": "code",
   "execution_count": 7,
   "id": "2936894f",
   "metadata": {},
   "outputs": [
    {
     "name": "stdout",
     "output_type": "stream",
     "text": [
      "Model: \"sequential\"\n",
      "_________________________________________________________________\n",
      " Layer (type)                Output Shape              Param #   \n",
      "=================================================================\n",
      " conv2d (Conv2D)             (None, 62, 62, 32)        896       \n",
      "                                                                 \n",
      "=================================================================\n",
      "Total params: 896\n",
      "Trainable params: 896\n",
      "Non-trainable params: 0\n",
      "_________________________________________________________________\n"
     ]
    }
   ],
   "source": [
    "#Step 1 - Convolution\n",
    "cnn.add(tf.keras.layers.Conv2D(filters=32, kernel_size=3, activation='relu', input_shape=[64, 64,3]))\n",
    "cnn.summary()"
   ]
  },
  {
   "cell_type": "code",
   "execution_count": 8,
   "id": "9ca7d489",
   "metadata": {},
   "outputs": [],
   "source": [
    "#Step 2 - Pooling\n",
    "cnn.add(tf.keras.layers.MaxPool2D(pool_size=2, strides=2))"
   ]
  },
  {
   "cell_type": "code",
   "execution_count": 9,
   "id": "ac9689c0",
   "metadata": {},
   "outputs": [],
   "source": [
    "#Adding a second convolutional layer\n",
    "cnn.add(tf.keras.layers.Conv2D(filters=32, kernel_size=3, activation='relu'))\n",
    "cnn.add(tf.keras.layers.MaxPool2D(pool_size=2, strides=2))"
   ]
  },
  {
   "cell_type": "code",
   "execution_count": 10,
   "id": "ce231f4e",
   "metadata": {},
   "outputs": [],
   "source": [
    "#Step 3 - Flattening\n",
    "cnn.add(tf.keras.layers.Flatten())"
   ]
  },
  {
   "cell_type": "code",
   "execution_count": 11,
   "id": "689d8c0f",
   "metadata": {},
   "outputs": [],
   "source": [
    "#Step 4 - Full Connection\n",
    "cnn.add(tf.keras.layers.Dense(units=128, activation='relu'))"
   ]
  },
  {
   "cell_type": "code",
   "execution_count": 12,
   "id": "4fb20b5a",
   "metadata": {},
   "outputs": [],
   "source": [
    "#Step 5 - Output Layer\n",
    "cnn.add(tf.keras.layers.Dense(units=1, activation='sigmoid'))"
   ]
  },
  {
   "cell_type": "code",
   "execution_count": 13,
   "id": "d4bf0c41",
   "metadata": {},
   "outputs": [],
   "source": [
    "#Part 3 - Training the CNN\n",
    "#Compiling the CNN\n",
    "cnn.compile(optimizer = 'adam', loss = 'binary_crossentropy', metrics = ['accuracy'])"
   ]
  },
  {
   "cell_type": "code",
   "execution_count": null,
   "id": "ef610e8b",
   "metadata": {},
   "outputs": [],
   "source": []
  },
  {
   "cell_type": "code",
   "execution_count": 14,
   "id": "914b6fce",
   "metadata": {},
   "outputs": [
    {
     "name": "stdout",
     "output_type": "stream",
     "text": [
      "Epoch 1/20\n",
      "11/11 [==============================] - 6s 422ms/step - loss: 0.7264 - accuracy: 0.5552 - val_loss: 0.6590 - val_accuracy: 0.4286\n",
      "Epoch 2/20\n",
      "11/11 [==============================] - 4s 342ms/step - loss: 0.6131 - accuracy: 0.6337 - val_loss: 0.4584 - val_accuracy: 0.7946\n",
      "Epoch 3/20\n",
      "11/11 [==============================] - 4s 327ms/step - loss: 0.5061 - accuracy: 0.7674 - val_loss: 0.3306 - val_accuracy: 0.8661\n",
      "Epoch 4/20\n",
      "11/11 [==============================] - 4s 333ms/step - loss: 0.4768 - accuracy: 0.7616 - val_loss: 0.2729 - val_accuracy: 0.9554\n",
      "Epoch 5/20\n",
      "11/11 [==============================] - 3s 320ms/step - loss: 0.3887 - accuracy: 0.8285 - val_loss: 0.1828 - val_accuracy: 0.9732\n",
      "Epoch 6/20\n",
      "11/11 [==============================] - 3s 315ms/step - loss: 0.2638 - accuracy: 0.9070 - val_loss: 0.0777 - val_accuracy: 0.9821\n",
      "Epoch 7/20\n",
      "11/11 [==============================] - 3s 319ms/step - loss: 0.2222 - accuracy: 0.9157 - val_loss: 0.0538 - val_accuracy: 0.9911\n",
      "Epoch 8/20\n",
      "11/11 [==============================] - 4s 323ms/step - loss: 0.1623 - accuracy: 0.9477 - val_loss: 0.0529 - val_accuracy: 0.9911\n",
      "Epoch 9/20\n",
      "11/11 [==============================] - 4s 319ms/step - loss: 0.1266 - accuracy: 0.9593 - val_loss: 0.0471 - val_accuracy: 0.9911\n",
      "Epoch 10/20\n",
      "11/11 [==============================] - 4s 334ms/step - loss: 0.1313 - accuracy: 0.9593 - val_loss: 0.0454 - val_accuracy: 0.9911\n",
      "Epoch 11/20\n",
      "11/11 [==============================] - 4s 330ms/step - loss: 0.0911 - accuracy: 0.9680 - val_loss: 0.0570 - val_accuracy: 0.9911\n",
      "Epoch 12/20\n",
      "11/11 [==============================] - 4s 321ms/step - loss: 0.1154 - accuracy: 0.9680 - val_loss: 0.0437 - val_accuracy: 0.9911\n",
      "Epoch 13/20\n",
      "11/11 [==============================] - 4s 320ms/step - loss: 0.1234 - accuracy: 0.9564 - val_loss: 0.1003 - val_accuracy: 0.9732\n",
      "Epoch 14/20\n",
      "11/11 [==============================] - 4s 334ms/step - loss: 0.0950 - accuracy: 0.9767 - val_loss: 0.0825 - val_accuracy: 0.9732\n",
      "Epoch 15/20\n",
      "11/11 [==============================] - 4s 345ms/step - loss: 0.0937 - accuracy: 0.9709 - val_loss: 0.1164 - val_accuracy: 0.9732\n",
      "Epoch 16/20\n",
      "11/11 [==============================] - 4s 319ms/step - loss: 0.0981 - accuracy: 0.9738 - val_loss: 0.1876 - val_accuracy: 0.9554\n",
      "Epoch 17/20\n",
      "11/11 [==============================] - 3s 325ms/step - loss: 0.0935 - accuracy: 0.9651 - val_loss: 0.1339 - val_accuracy: 0.9732\n",
      "Epoch 18/20\n",
      "11/11 [==============================] - 4s 336ms/step - loss: 0.0485 - accuracy: 0.9884 - val_loss: 0.1028 - val_accuracy: 0.9732\n",
      "Epoch 19/20\n",
      "11/11 [==============================] - 4s 333ms/step - loss: 0.1064 - accuracy: 0.9709 - val_loss: 0.3211 - val_accuracy: 0.9375\n",
      "Epoch 20/20\n",
      "11/11 [==============================] - 4s 328ms/step - loss: 0.1332 - accuracy: 0.9360 - val_loss: 0.1068 - val_accuracy: 0.9732\n"
     ]
    }
   ],
   "source": [
    "#Training the CNN on the Training set and evaluating it on the Test set\n",
    "history=cnn.fit(x = training_set, validation_data = test_set, epochs = 20)"
   ]
  },
  {
   "cell_type": "code",
   "execution_count": 15,
   "id": "7844ae32",
   "metadata": {},
   "outputs": [
    {
     "data": {
      "image/png": "[encoded data removed]",
      "text/plain": [
       "<Figure size 640x480 with 1 Axes>"
      ]
     },
     "metadata": {},
     "output_type": "display_data"
    }
   ],
   "source": [
    "train_accuracy = history.history['accuracy']\n",
    "val_accuracy = history.history['val_accuracy']\n",
    "\n",
    "# Create x-axis values (epochs)\n",
    "epochs = range(1, len(train_accuracy) + 1)\n",
    "\n",
    "# Plot accuracy\n",
    "plt.plot(epochs, train_accuracy, 'b-', label='Training Accuracy')\n",
    "plt.plot(epochs, val_accuracy, 'r-', label='Validation Accuracy')\n",
    "plt.xlabel('Epochs')\n",
    "plt.ylabel('Accuracy')\n",
    "plt.title('Model Accuracy')\n",
    "plt.legend()\n",
    "plt.grid(True)\n",
    "plt.show()"
   ]
  },
  {
   "cell_type": "code",
   "execution_count": 16,
   "id": "5800f900",
   "metadata": {},
   "outputs": [
    {
     "name": "stdout",
     "output_type": "stream",
     "text": [
      "Enter the path / Location of imageC:\\Users\\chava\\dataset\\single_prediction\\cancer (2).png\n",
      "1/1 [==============================] - 0s 146ms/step\n",
      "Cancer is Detected\n"
     ]
    }
   ],
   "source": [
    "#Part 4 - Making a single prediction\n",
    "import numpy as np\n",
    "from tensorflow.keras.preprocessing import image\n",
    "#from keras.preprocessing import image\n",
    "test_image = image.load_img(input('Enter the path / Location of image'), target_size = (64, 64))\n",
    "test_image = image.img_to_array(test_image)\n",
    "test_image = np.expand_dims(test_image, axis = 0)\n",
    "result = cnn.predict(test_image)\n",
    "result\n",
    "training_set.class_indices\n",
    "if result[0][0] == 1:\n",
    "    prediction = 'No Cancer Detected'\n",
    "    \n",
    "else:\n",
    "    prediction = 'Cancer is Detected'\n",
    "    \n",
    "print(prediction)\n"
   ]
  },
  {
   "cell_type": "code",
   "execution_count": 18,
   "id": "010d31cb",
   "metadata": {},
   "outputs": [],
   "source": [
    "from tensorflow.keras.models import save_model"
   ]
  },
  {
   "cell_type": "code",
   "execution_count": 20,
   "id": "9dbabff1",
   "metadata": {},
   "outputs": [],
   "source": [
    "save_model(cnn,'lcd.h5')"
   ]
  },
  {
   "cell_type": "code",
   "execution_count": null,
   "id": "aa11fe39",
   "metadata": {},
   "outputs": [],
   "source": []
  }
 ],
 "metadata": {
  "kernelspec": {
   "display_name": "Python 3 (ipykernel)",
   "language": "python",
   "name": "python3"
  },
  "language_info": {
   "codemirror_mode": {
    "name": "ipython",
    "version": 3
   },
   "file_extension": ".py",
   "mimetype": "text/x-python",
   "name": "python",
   "nbconvert_exporter": "python",
   "pygments_lexer": "ipython3",
   "version": "3.11.3"
  }
 },
 "nbformat": 4,
 "nbformat_minor": 5
}
